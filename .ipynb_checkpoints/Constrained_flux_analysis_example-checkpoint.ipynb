{
 "cells": [
  {
   "cell_type": "markdown",
   "metadata": {},
   "source": [
    "### Examle for using cobra model for constrained analysis at steady state"
   ]
  },
  {
   "cell_type": "code",
   "execution_count": 62,
   "metadata": {},
   "outputs": [],
   "source": [
    "import pandas as pd\n",
    "import cobra"
   ]
  },
  {
   "cell_type": "code",
   "execution_count": 63,
   "metadata": {},
   "outputs": [],
   "source": [
    "# Load model\n",
    "model = cobra.io.load_json_model('Model/Model_iLB1034.json')"
   ]
  },
  {
   "cell_type": "code",
   "execution_count": 64,
   "metadata": {},
   "outputs": [],
   "source": [
    "# Load the media composition\n",
    "# here Exrxn is the list of extracellular components that are in the model\n",
    "# EXub set the upper bound for the listed elements; 1000 means the release from cell is not constained \n",
    "# EXlb set the lower bound for the listed elements; -1000 means the uptake into cell is not constrained\n",
    "\n",
    "EXrxn = ['EX_co2_e','EX_hco3_e','EX_no2_e','EX_no3_e','EX_nh4_e','EX_biotin_e','EX_fe2_e','EX_h_e','EX_h2o_e','EX_o2_e','EX_pi_e','EX_na1_e','EX_so4_e','EX_hso3_e','EX_mg2_e','EX_glyclt_e','EX_selt_e','EX_glc_e','EX_cl_e','EX_thm_e','EX_h2_e','EX_fol_e','EX_co_e','EX_cyan_e','EX_cynt_e','EX_tcynt_e','EX_lac_d_e','EX_etoh_e']\n",
    "EXub = [1000,1000,0,0,1000,0,1000,1000,1000,1000,1000,0,0,0,0,0,0,0,0,0,0,0,0,0,0,0,0,0]\n",
    "EXlb = [-1,-1000,0,-1000,0,-1000,-1000,-1000,-1000,-1000,-1000,-1000,-1000,0,-1000,0,0,0,-1000,-1000,0,0,0,0,0,0,0,0]\n",
    "for i in range(len(EXrxn)):\n",
    "    rx = EXrxn[i]\n",
    "    model.reactions.get_by_id(rx).lower_bound = EXlb[i]\n",
    "    model.reactions.get_by_id(rx).upper_bound = EXub[i]"
   ]
  },
  {
   "cell_type": "code",
   "execution_count": 65,
   "metadata": {},
   "outputs": [
    {
     "data": {
      "text/html": [
       "\n",
       "        <table>\n",
       "            <tr>\n",
       "                <td><strong>Reaction identifier</strong></td><td>EX_co2_e</td>\n",
       "            </tr><tr>\n",
       "                <td><strong>Name</strong></td><td>CO2 exchange</td>\n",
       "            </tr><tr>\n",
       "                <td><strong>Memory address</strong></td>\n",
       "                <td>0x07f8ec17e1400</td>\n",
       "            </tr><tr>\n",
       "                <td><strong>Stoichiometry</strong></td>\n",
       "                <td>\n",
       "                    <p style='text-align:right'>co2_e <=> </p>\n",
       "                    <p style='text-align:right'>CO2 <=> </p>\n",
       "                </td>\n",
       "            </tr><tr>\n",
       "                <td><strong>GPR</strong></td><td></td>\n",
       "            </tr><tr>\n",
       "                <td><strong>Lower bound</strong></td><td>-1</td>\n",
       "            </tr><tr>\n",
       "                <td><strong>Upper bound</strong></td><td>1000</td>\n",
       "            </tr>\n",
       "        </table>\n",
       "        "
      ],
      "text/plain": [
       "<Reaction EX_co2_e at 0x7f8ec17e1400>"
      ]
     },
     "execution_count": 65,
     "metadata": {},
     "output_type": "execute_result"
    }
   ],
   "source": [
    "# Here we can take a quick look at the CO2 budget, in this case we consider 1 unit/time of co2 \n",
    "# can enter the cell via diffusion\n",
    "model.reactions.EX_co2_e"
   ]
  },
  {
   "cell_type": "code",
   "execution_count": 66,
   "metadata": {},
   "outputs": [],
   "source": [
    "# Here we set the maximal oxygen evolution rate to 10 of your defined unit/time, and the \n",
    "# maximal oxygen consumption rate to 1 of your defined unit/time - This value can be simulated \n",
    "# or measured using electrode\n",
    "\n",
    "model.reactions.EX_o2_e.upper_bound = 10.  \n",
    "model.reactions.EX_o2_e.lower_bound = -1.\n",
    "\n",
    "model.reactions.DM_biomass_c_acc_c.upper_bound = 1000\n",
    "model.reactions.DM_biomass_c_acc_c.lower_bound = -1000"
   ]
  },
  {
   "cell_type": "code",
   "execution_count": 67,
   "metadata": {},
   "outputs": [],
   "source": [
    "# Set the biological objective function of the model to carbon accumulation\n",
    "model.objective = 'bof_c_accumulation_c'"
   ]
  },
  {
   "cell_type": "code",
   "execution_count": 68,
   "metadata": {},
   "outputs": [],
   "source": [
    "# Set the solution of the model to minimize intracellular metabolic flux \n",
    "solution = cobra.flux_analysis.parsimonious.optimize_minimal_flux(model)"
   ]
  },
  {
   "cell_type": "code",
   "execution_count": 69,
   "metadata": {},
   "outputs": [
    {
     "name": "stdout",
     "output_type": "stream",
     "text": [
      "IN FLUXES            OUT FLUXES    OBJECTIVES\n",
      "-------------------  ------------  ---------------------\n",
      "photon_e  102        o2_e   10     bof_c_accumu...  0.14\n",
      "h_e         7.07     h2o_e   1.36\n",
      "hco3_e      5.39\n",
      "no3_e       1.64\n",
      "co2_e       1\n",
      "so4_e       0.0238\n",
      "pi_e        0.0132\n",
      "mg2_e       0.00735\n"
     ]
    }
   ],
   "source": [
    "# A quick overview of the model simulated result - in this case, when oxygen evolution rate is \n",
    "# at 10 unit/time and co2 influx at 1 unit/time, then the accumulation rate of carbon is 0.14 unit/time\n",
    "model.summary()"
   ]
  },
  {
   "cell_type": "code",
   "execution_count": 89,
   "metadata": {},
   "outputs": [
    {
     "name": "stdout",
     "output_type": "stream",
     "text": [
      "ATPS_m    7.108547\n",
      "IDP_h     0.224209\n",
      "IDP_m     0.000000\n",
      "THD2_m    0.000000\n",
      "ATAM_c    2.390363\n",
      "Name: fluxes, dtype: float64\n"
     ]
    }
   ],
   "source": [
    "# Export simulated metabolic flux rates for all reactions\n",
    "flux_val = solution.x_dict\n",
    "print(flux_val.head())\n",
    "pd.DataFrame({'rxn':flux_val.index,'flux':flux_val}).set_index('rxn').to_csv('output/example.csv')"
   ]
  },
  {
   "cell_type": "code",
   "execution_count": null,
   "metadata": {},
   "outputs": [],
   "source": []
  }
 ],
 "metadata": {
  "kernelspec": {
   "display_name": "Python 3",
   "language": "python",
   "name": "python3"
  },
  "language_info": {
   "codemirror_mode": {
    "name": "ipython",
    "version": 3
   },
   "file_extension": ".py",
   "mimetype": "text/x-python",
   "name": "python",
   "nbconvert_exporter": "python",
   "pygments_lexer": "ipython3",
   "version": "3.5.4"
  }
 },
 "nbformat": 4,
 "nbformat_minor": 2
}
